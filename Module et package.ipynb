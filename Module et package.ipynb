{
 "cells": [
  {
   "cell_type": "markdown",
   "id": "2bd9604c",
   "metadata": {},
   "source": [
    "# Module/package"
   ]
  },
  {
   "cell_type": "markdown",
   "id": "347efb58",
   "metadata": {},
   "source": [
    "#https://www.youtube.com/redirect?event=video_description&redir_token=QUFFLUhqbEtvRWdCWmowY01WZFJua0N3OHN3TlZVS1Rpd3xBQ3Jtc0ttbkpoY3lYcVJqd0pHTHJEY2JvRjl4SU1RZl90UGM2UFV0YktDdWNUWFdoeVZlOWFZc1ZxQ0J4VTUzWWJrNEVDWWJHVUVHdXRUMVhmbEpVcHZ1eWJyZkhKVHpEdW92Wm5VaE9ITllRM2VLNUlJREV2Zw&q=https%3A%2F%2Fdocs.python.org%2F3%2Fpy-modindex.html&v=mSh4h-J0z1c"
   ]
  },
  {
   "cell_type": "code",
   "execution_count": null,
   "id": "aa5199e8",
   "metadata": {},
   "outputs": [],
   "source": [
    "#un module est un docment qui contient du code\n",
    "#Pour metre de l'odre dans les module on les regroupe en package\n",
    "# Donc un package est juste un packet de different module\n",
    "\n",
    "#example de package (matplotlib) renfeme des modules comme \"pyplot\"\n",
    "\n",
    "#d'autre modules importants\n",
    "# math\n",
    "# random\n",
    "# statistics\n",
    "# os\n",
    "# glob"
   ]
  },
  {
   "cell_type": "code",
   "execution_count": 1,
   "id": "185285af",
   "metadata": {},
   "outputs": [
    {
     "data": {
      "text/plain": [
       "2.718281828459045"
      ]
     },
     "execution_count": 1,
     "metadata": {},
     "output_type": "execute_result"
    }
   ],
   "source": [
    "#math\n",
    "import math\n",
    "math.e"
   ]
  },
  {
   "cell_type": "code",
   "execution_count": 2,
   "id": "035db81a",
   "metadata": {},
   "outputs": [
    {
     "name": "stdout",
     "output_type": "stream",
     "text": [
      "1.0\n"
     ]
    }
   ],
   "source": [
    "print(math.cos(2*math.pi))"
   ]
  },
  {
   "cell_type": "code",
   "execution_count": 3,
   "id": "68447e50",
   "metadata": {},
   "outputs": [
    {
     "name": "stdout",
     "output_type": "stream",
     "text": [
      "148.4131591025766\n"
     ]
    }
   ],
   "source": [
    "print(math.exp(5))"
   ]
  },
  {
   "cell_type": "code",
   "execution_count": 30,
   "id": "225dd686",
   "metadata": {},
   "outputs": [
    {
     "name": "stdout",
     "output_type": "stream",
     "text": [
      "3\n"
     ]
    }
   ],
   "source": [
    "#STATISTICS\n",
    "import statistics\n",
    "list_1 = [1, 2, 4, 5]\n",
    "print(statistics.mean(list_1))"
   ]
  },
  {
   "cell_type": "code",
   "execution_count": 7,
   "id": "2c3e0ac4",
   "metadata": {},
   "outputs": [
    {
     "name": "stdout",
     "output_type": "stream",
     "text": [
      "3.3333333333333335\n"
     ]
    }
   ],
   "source": [
    "print(statistics.variance(list_1))"
   ]
  },
  {
   "cell_type": "code",
   "execution_count": 15,
   "id": "1f3a2478",
   "metadata": {
    "scrolled": true
   },
   "outputs": [
    {
     "name": "stdout",
     "output_type": "stream",
     "text": [
      "5\n"
     ]
    }
   ],
   "source": [
    "#RANDOM\n",
    "import random\n",
    "print(random.choice(list_1))"
   ]
  },
  {
   "cell_type": "code",
   "execution_count": 17,
   "id": "af4f9bac",
   "metadata": {},
   "outputs": [
    {
     "name": "stdout",
     "output_type": "stream",
     "text": [
      "jogo\n"
     ]
    }
   ],
   "source": [
    "random.seed(0) #permet de genere hazar en boucle\n",
    "print(random.choice(['gato', 'jogo', ' belle']))"
   ]
  },
  {
   "cell_type": "code",
   "execution_count": 18,
   "id": "a61df8c6",
   "metadata": {},
   "outputs": [
    {
     "name": "stdout",
     "output_type": "stream",
     "text": [
      "0.7579544029403025\n"
     ]
    }
   ],
   "source": [
    "print(random.random())#genere de float"
   ]
  },
  {
   "cell_type": "code",
   "execution_count": 19,
   "id": "8c89a068",
   "metadata": {},
   "outputs": [
    {
     "name": "stdout",
     "output_type": "stream",
     "text": [
      "8\n"
     ]
    }
   ],
   "source": [
    "print(random.randint(5, 10))#int"
   ]
  },
  {
   "cell_type": "code",
   "execution_count": 20,
   "id": "15388f8e",
   "metadata": {},
   "outputs": [
    {
     "name": "stdout",
     "output_type": "stream",
     "text": [
      "5\n"
     ]
    }
   ],
   "source": [
    "print(random.randrange(100)) # int entre 0 et 100"
   ]
  },
  {
   "cell_type": "code",
   "execution_count": 24,
   "id": "482c969f",
   "metadata": {},
   "outputs": [
    {
     "name": "stdout",
     "output_type": "stream",
     "text": [
      "[33, 65, 62, 51, 38, 61, 45, 74, 27, 64]\n"
     ]
    }
   ],
   "source": [
    "print(random.sample(range(100), 10)) #list aleatoire"
   ]
  },
  {
   "cell_type": "code",
   "execution_count": 26,
   "id": "dadee546",
   "metadata": {},
   "outputs": [
    {
     "name": "stdout",
     "output_type": "stream",
     "text": [
      "[79]\n"
     ]
    }
   ],
   "source": [
    "print(random.sample(range(100), random.randrange(10))) #list aeatoire"
   ]
  },
  {
   "cell_type": "code",
   "execution_count": 36,
   "id": "6a94ae3b",
   "metadata": {},
   "outputs": [],
   "source": [
    "random.shuffle([1, 3, 4, 5, 6, 7])"
   ]
  },
  {
   "cell_type": "raw",
   "id": "2c846d45",
   "metadata": {},
   "source": []
  },
  {
   "cell_type": "code",
   "execution_count": 38,
   "id": "4bc74865",
   "metadata": {},
   "outputs": [
    {
     "data": {
      "text/plain": [
       "'/home/gato/Desktop/Machinelearner'"
      ]
     },
     "execution_count": 38,
     "metadata": {},
     "output_type": "execute_result"
    }
   ],
   "source": [
    "#OS\n",
    "import os\n",
    "os.getcwd()"
   ]
  },
  {
   "cell_type": "code",
   "execution_count": 39,
   "id": "12503cb8",
   "metadata": {},
   "outputs": [
    {
     "name": "stdout",
     "output_type": "stream",
     "text": [
      "['fiLle.txt', 'fille.txt', 'file.txt', 'figure.png', 'package_installation.ipynb', 'Function(format()).ipynb', 'ficher.txt', 'Python_special_machinelearning.ipynb', 'Module et package.ipynb']\n"
     ]
    }
   ],
   "source": [
    "#GLOB\n",
    "import glob\n",
    "print(glob.glob(\"*\"))"
   ]
  },
  {
   "cell_type": "code",
   "execution_count": 40,
   "id": "562a6d7c",
   "metadata": {},
   "outputs": [
    {
     "name": "stdout",
     "output_type": "stream",
     "text": [
      "['fiLle.txt', 'fille.txt', 'file.txt', 'ficher.txt']\n"
     ]
    }
   ],
   "source": [
    "print(glob.glob(\"*.txt\"))"
   ]
  },
  {
   "cell_type": "code",
   "execution_count": 45,
   "id": "fee7e350",
   "metadata": {},
   "outputs": [
    {
     "ename": "NameError",
     "evalue": "name 'Print' is not defined",
     "output_type": "error",
     "traceback": [
      "\u001b[0;31m---------------------------------------------------------------------------\u001b[0m",
      "\u001b[0;31mNameError\u001b[0m                                 Traceback (most recent call last)",
      "Input \u001b[0;32mIn [45]\u001b[0m, in \u001b[0;36m<cell line: 4>\u001b[0;34m()\u001b[0m\n\u001b[1;32m      4\u001b[0m \u001b[38;5;28;01mfor\u001b[39;00m file \u001b[38;5;129;01min\u001b[39;00m filenames:\n\u001b[1;32m      5\u001b[0m     \u001b[38;5;28;01mwith\u001b[39;00m \u001b[38;5;28mopen\u001b[39m(file, \u001b[38;5;124m'\u001b[39m\u001b[38;5;124mr\u001b[39m\u001b[38;5;124m'\u001b[39m) \u001b[38;5;28;01mas\u001b[39;00m f:\n\u001b[0;32m----> 6\u001b[0m         \u001b[43mPrint\u001b[49m(f\u001b[38;5;241m.\u001b[39mread())\n",
      "\u001b[0;31mNameError\u001b[0m: name 'Print' is not defined"
     ]
    }
   ],
   "source": [
    "filenames = glob.glob(\"*.txt\")\n",
    "\n",
    "\n",
    "for file in filenames:\n",
    "    with open(file, 'r') as f:\n",
    "        Print(f.read())"
   ]
  },
  {
   "cell_type": "code",
   "execution_count": null,
   "id": "81efb9de",
   "metadata": {},
   "outputs": [],
   "source": []
  }
 ],
 "metadata": {
  "kernelspec": {
   "display_name": "Python 3 (ipykernel)",
   "language": "python",
   "name": "python3"
  },
  "language_info": {
   "codemirror_mode": {
    "name": "ipython",
    "version": 3
   },
   "file_extension": ".py",
   "mimetype": "text/x-python",
   "name": "python",
   "nbconvert_exporter": "python",
   "pygments_lexer": "ipython3",
   "version": "3.10.6"
  }
 },
 "nbformat": 4,
 "nbformat_minor": 5
}
