{
 "cells": [
  {
   "cell_type": "code",
   "execution_count": null,
   "id": "5cc44c97",
   "metadata": {},
   "outputs": [],
   "source": [
    "# Importing a library that is not in Colaboratory\n",
    "\n",
    "To import a library that's not in Colaboratory by default, you can use `!pip install` or `!apt-get install`.\n",
    "\n",
    "!pip install matplotlib-venn\n",
    "\n",
    "!apt-get -qq install -y libfluidsynth1\n",
    "\n",
    "# Install 7zip reader [libarchive](https://pypi.python.org/pypi/libarchive) \n",
    "\n",
    "# https://pypi.python.org/pypi/libarchive\n",
    "!apt-get -qq install -y libarchive-dev && pip install -U libarchive\n",
    "import libarchive\n",
    "\n",
    "# Install GraphViz & [PyDot](https://pypi.python.org/pypi/pydot)\n",
    "\n",
    "# https://pypi.python.org/pypi/pydot\n",
    "!apt-get -qq install -y graphviz && pip install pydot\n",
    "import pydot\n",
    "\n",
    "# Install [cartopy](http://scitools.org.uk/cartopy/docs/latest/)\n",
    "\n",
    "!pip install cartopy\n",
    "import cartopy"
   ]
  }
 ],
 "metadata": {
  "kernelspec": {
   "display_name": "Python 3 (ipykernel)",
   "language": "python",
   "name": "python3"
  },
  "language_info": {
   "codemirror_mode": {
    "name": "ipython",
    "version": 3
   },
   "file_extension": ".py",
   "mimetype": "text/x-python",
   "name": "python",
   "nbconvert_exporter": "python",
   "pygments_lexer": "ipython3",
   "version": "3.10.6"
  }
 },
 "nbformat": 4,
 "nbformat_minor": 5
}
