{
 "cells": [
  {
   "cell_type": "code",
   "execution_count": null,
   "id": "41a66338",
   "metadata": {},
   "outputs": [],
   "source": [
    "#function format()"
   ]
  },
  {
   "cell_type": "code",
   "execution_count": 5,
   "id": "a8d95677",
   "metadata": {
    "scrolled": true
   },
   "outputs": [
    {
     "name": "stdout",
     "output_type": "stream",
     "text": [
      "la temperature est de 38 degC a Lome\n"
     ]
    }
   ],
   "source": [
    "x = 38\n",
    "ville = 'Lome'\n",
    "message = \"la temperature est de {} degC a {}\".format(x, ville)\n",
    "print(message)"
   ]
  },
  {
   "cell_type": "code",
   "execution_count": 16,
   "id": "3b4221a9",
   "metadata": {},
   "outputs": [],
   "source": [
    "#Open()\n",
    "f = open('fiLle.txt', 'w')"
   ]
  },
  {
   "cell_type": "code",
   "execution_count": 17,
   "id": "fcb6a49f",
   "metadata": {},
   "outputs": [],
   "source": [
    "f.write('bonsoir')\n",
    "f.close()"
   ]
  },
  {
   "cell_type": "code",
   "execution_count": 24,
   "id": "129b8a8a",
   "metadata": {},
   "outputs": [
    {
     "data": {
      "text/plain": [
       "''"
      ]
     },
     "execution_count": 24,
     "metadata": {},
     "output_type": "execute_result"
    }
   ],
   "source": [
    "f = open('file.txt', 'r')\n",
    "f.read()"
   ]
  },
  {
   "cell_type": "code",
   "execution_count": 33,
   "id": "e3fdb76c",
   "metadata": {},
   "outputs": [],
   "source": [
    "with open('ficher.txt', 'w') as f:\n",
    "    for i in range(10):\n",
    "        f.write(\"{}^2 = {} \\n\".format(i, i**2))"
   ]
  },
  {
   "cell_type": "code",
   "execution_count": 32,
   "id": "1a48aaed",
   "metadata": {},
   "outputs": [],
   "source": [
    "with open('ficher.txt', 'r') as f:\n",
    "    f.read()"
   ]
  },
  {
   "cell_type": "markdown",
   "id": "63e80cd2",
   "metadata": {},
   "source": [
    "# exercices6"
   ]
  },
  {
   "cell_type": "code",
   "execution_count": 34,
   "id": "767abd49",
   "metadata": {},
   "outputs": [],
   "source": [
    "#carres de 0 a 20\n",
    "carres_pairs = {\n",
    "    str(k) : k**2 for k in range(0, 20)\n",
    "}"
   ]
  },
  {
   "cell_type": "raw",
   "id": "147476a1",
   "metadata": {},
   "source": []
  },
  {
   "cell_type": "code",
   "execution_count": 35,
   "id": "574779d0",
   "metadata": {
    "scrolled": true
   },
   "outputs": [
    {
     "data": {
      "text/plain": [
       "{'0': 0,\n",
       " '1': 1,\n",
       " '2': 4,\n",
       " '3': 9,\n",
       " '4': 16,\n",
       " '5': 25,\n",
       " '6': 36,\n",
       " '7': 49,\n",
       " '8': 64,\n",
       " '9': 81,\n",
       " '10': 100,\n",
       " '11': 121,\n",
       " '12': 144,\n",
       " '13': 169,\n",
       " '14': 196,\n",
       " '15': 225,\n",
       " '16': 256,\n",
       " '17': 289,\n",
       " '18': 324,\n",
       " '19': 361}"
      ]
     },
     "execution_count": 35,
     "metadata": {},
     "output_type": "execute_result"
    }
   ],
   "source": [
    "carres_pairs"
   ]
  },
  {
   "cell_type": "markdown",
   "id": "0bf299cf",
   "metadata": {},
   "source": [
    "# Module/package"
   ]
  }
 ],
 "metadata": {
  "kernelspec": {
   "display_name": "Python 3 (ipykernel)",
   "language": "python",
   "name": "python3"
  },
  "language_info": {
   "codemirror_mode": {
    "name": "ipython",
    "version": 3
   },
   "file_extension": ".py",
   "mimetype": "text/x-python",
   "name": "python",
   "nbconvert_exporter": "python",
   "pygments_lexer": "ipython3",
   "version": "3.9.13"
  }
 },
 "nbformat": 4,
 "nbformat_minor": 5
}
